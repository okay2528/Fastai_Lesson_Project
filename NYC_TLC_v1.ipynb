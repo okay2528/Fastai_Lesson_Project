{
  "nbformat": 4,
  "nbformat_minor": 0,
  "metadata": {
    "colab": {
      "provenance": [],
      "toc_visible": true,
      "authorship_tag": "ABX9TyNakp5DCiCR4MCavTglfOjA",
      "include_colab_link": true
    },
    "kernelspec": {
      "name": "python3",
      "display_name": "Python 3"
    },
    "language_info": {
      "name": "python"
    }
  },
  "cells": [
    {
      "cell_type": "markdown",
      "metadata": {
        "id": "view-in-github",
        "colab_type": "text"
      },
      "source": [
        "<a href=\"https://colab.research.google.com/github/okay2528/Fastai_Lesson_Project/blob/master/NYC_TLC_v1.ipynb\" target=\"_parent\"><img src=\"https://colab.research.google.com/assets/colab-badge.svg\" alt=\"Open In Colab\"/></a>"
      ]
    },
    {
      "cell_type": "code",
      "source": [
        "# here's how I modify the notebook and run on Colab fine\n",
        "from google.colab import auth\n",
        "auth.authenticate_user()  # login\n",
        "\n",
        "import os\n",
        "os.environ['PROJECT_ID'] = 'quiet-being-241109'\n",
        "\n",
        "# !pip install datalab\n",
        "import google.datalab.bigquery as bq\n",
        "\n",
        "# # then just query\n",
        "# sql = 'SELECT 1'\n",
        "# bq.Query(sql).execute().result().to_dataframe()\n",
        "\n",
        "import pandas as pd"
      ],
      "metadata": {
        "id": "UfKX3Vukyjux"
      },
      "execution_count": 1,
      "outputs": []
    },
    {
      "cell_type": "markdown",
      "source": [
        "# Load data"
      ],
      "metadata": {
        "id": "zU7tVuvHDMmF"
      }
    },
    {
      "cell_type": "code",
      "execution_count": null,
      "metadata": {
        "id": "A7j-glERxXBw"
      },
      "outputs": [],
      "source": [
        "## Review data with sample 1000 records\n",
        "# Create and run a SQL query for the taxi_data from 2021 and 2022\n",
        "# sql_code = '(SELECT * FROM `bigquery-public-data.new_york_taxi_trips.tlc_yellow_trips_2021` LIMIT 1000) \\\n",
        "#                    union all (SELECT * FROM `bigquery-public-data.new_york_taxi_trips.tlc_yellow_trips_2022` LIMIT 1000)'\n",
        "sql_code = '(SELECT pickup_datetime,\tdropoff_datetime, trip_distance, fare_amount, total_amount, pickup_location_id,\tdropoff_location_id \\\n",
        "                      from `bigquery-public-data.new_york_taxi_trips.tlc_yellow_trips_2021` \\\n",
        "                      where fare_amount > 0\\\n",
        "                      and trip_distance > 0\\\n",
        "                      and total_amount > 0\\\n",
        "                      and passenger_count >0)'\n",
        "query = bq.Query(sql_code)\n",
        "output_options = bq.QueryOutput.table(use_cache=False)\n",
        "result = query.execute(output_options=output_options).result()\n",
        " \n",
        "# Convert to DataFrame\n",
        "df = result.to_dataframe()\n",
        "df.shape[0]"
      ]
    },
    {
      "cell_type": "code",
      "source": [
        "df.describe()"
      ],
      "metadata": {
        "id": "-D1uKcY8Iw6b"
      },
      "execution_count": null,
      "outputs": []
    },
    {
      "cell_type": "code",
      "source": [
        "df.head()"
      ],
      "metadata": {
        "id": "WFZWaqJ53wBf"
      },
      "execution_count": null,
      "outputs": []
    },
    {
      "cell_type": "markdown",
      "source": [
        "# Prepare data"
      ],
      "metadata": {
        "id": "tYrlxxmIDfx8"
      }
    },
    {
      "cell_type": "code",
      "source": [
        "# Calculate trip_duration in minutes\n",
        "df['pickup_datetime'] = pd.to_datetime(df['pickup_datetime'])\n",
        "df['dropoff_datetime'] = pd.to_datetime(df['dropoff_datetime'])\n",
        "df['trip_duration'] = (df['dropoff_datetime'] - df['pickup_datetime']).dt.total_seconds()/60"
      ],
      "metadata": {
        "id": "CyMfYcs44Fy4"
      },
      "execution_count": null,
      "outputs": []
    },
    {
      "cell_type": "code",
      "source": [
        "# Visualise the columns to be used for simple intuitive model\n",
        "pd.plotting.scatter_matrix(frame = df[['fare_amount', 'trip_duration']], figsize=(7,7))\n"
      ],
      "metadata": {
        "id": "QeFx5BtZ4aMI"
      },
      "execution_count": null,
      "outputs": []
    },
    {
      "cell_type": "code",
      "source": [
        "# # Remove the outliers\n",
        "# df_filtered = df[(df['trip_distance'] >= 2) & (df['trip_distance'] <= 50) &\\\n",
        "#                  (df['fare_amount'] >= 3) & (df['fare_amount'] <=300) & \\\n",
        "#                  (df['trip_duration'] <= 200) & (df['trip_duration'] > 1)].copy()\n",
        "\n",
        "# # Visualise the columns to be used for simple intuitive model\n",
        "# pd.plotting.scatter_matrix(frame = df_filtered[['fare_amount', 'trip_distance', 'trip_duration']], figsize=(7,7));"
      ],
      "metadata": {
        "id": "GamK3SIY4tck"
      },
      "execution_count": null,
      "outputs": []
    },
    {
      "cell_type": "code",
      "source": [
        "# Write to csv\n",
        "df.to_csv('data.csv')"
      ],
      "metadata": {
        "id": "aKN-7YGj-GOu"
      },
      "execution_count": null,
      "outputs": []
    }
  ]
}